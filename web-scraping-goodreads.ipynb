{
 "cells": [
  {
   "cell_type": "code",
   "execution_count": 1,
   "id": "85cb886f",
   "metadata": {
    "_cell_guid": "b1076dfc-b9ad-4769-8c92-a6c4dae69d19",
    "_uuid": "8f2839f25d086af736a60e9eeb907d3b93b6e0e5",
    "execution": {
     "iopub.execute_input": "2024-02-21T08:32:45.271783Z",
     "iopub.status.busy": "2024-02-21T08:32:45.271037Z",
     "iopub.status.idle": "2024-02-21T08:32:46.289927Z",
     "shell.execute_reply": "2024-02-21T08:32:46.288784Z"
    },
    "papermill": {
     "duration": 1.027077,
     "end_time": "2024-02-21T08:32:46.292675",
     "exception": false,
     "start_time": "2024-02-21T08:32:45.265598",
     "status": "completed"
    },
    "tags": []
   },
   "outputs": [],
   "source": [
    "# This Python 3 environment comes with many helpful analytics libraries installed\n",
    "# It is defined by the kaggle/python Docker image: https://github.com/kaggle/docker-python\n",
    "# For example, here's several helpful packages to load\n",
    "\n",
    "import numpy as np # linear algebra\n",
    "import pandas as pd # data processing, CSV file I/O (e.g. pd.read_csv)\n",
    "\n",
    "# Input data files are available in the read-only \"../input/\" directory\n",
    "# For example, running this (by clicking run or pressing Shift+Enter) will list all files under the input directory\n",
    "\n",
    "import os\n",
    "for dirname, _, filenames in os.walk('/kaggle/input'):\n",
    "    for filename in filenames:\n",
    "        print(os.path.join(dirname, filename))\n",
    "\n",
    "# You can write up to 20GB to the current directory (/kaggle/working/) that gets preserved as output when you create a version using \"Save & Run All\" \n",
    "# You can also write temporary files to /kaggle/temp/, but they won't be saved outside of the current session"
   ]
  },
  {
   "cell_type": "code",
   "execution_count": 2,
   "id": "7034338d",
   "metadata": {
    "execution": {
     "iopub.execute_input": "2024-02-21T08:32:46.300443Z",
     "iopub.status.busy": "2024-02-21T08:32:46.299915Z",
     "iopub.status.idle": "2024-02-21T08:32:46.599630Z",
     "shell.execute_reply": "2024-02-21T08:32:46.598530Z"
    },
    "papermill": {
     "duration": 0.30666,
     "end_time": "2024-02-21T08:32:46.602491",
     "exception": false,
     "start_time": "2024-02-21T08:32:46.295831",
     "status": "completed"
    },
    "tags": []
   },
   "outputs": [],
   "source": [
    "from bs4 import BeautifulSoup as bs\n",
    "import requests"
   ]
  },
  {
   "cell_type": "code",
   "execution_count": 3,
   "id": "e838dabb",
   "metadata": {
    "execution": {
     "iopub.execute_input": "2024-02-21T08:32:46.611389Z",
     "iopub.status.busy": "2024-02-21T08:32:46.610763Z",
     "iopub.status.idle": "2024-02-21T08:32:46.618680Z",
     "shell.execute_reply": "2024-02-21T08:32:46.617107Z"
    },
    "papermill": {
     "duration": 0.01578,
     "end_time": "2024-02-21T08:32:46.621521",
     "exception": false,
     "start_time": "2024-02-21T08:32:46.605741",
     "status": "completed"
    },
    "tags": []
   },
   "outputs": [
    {
     "name": "stdout",
     "output_type": "stream",
     "text": [
      "https://www.goodreads.com/list/show/12362.All_Time_Favorite_Romance_Novelspage=1\n",
      "https://www.goodreads.com/list/show/12362.All_Time_Favorite_Romance_Novelspage=2\n",
      "https://www.goodreads.com/list/show/12362.All_Time_Favorite_Romance_Novelspage=3\n",
      "https://www.goodreads.com/list/show/12362.All_Time_Favorite_Romance_Novelspage=4\n",
      "https://www.goodreads.com/list/show/12362.All_Time_Favorite_Romance_Novelspage=5\n",
      "https://www.goodreads.com/list/show/12362.All_Time_Favorite_Romance_Novelspage=6\n",
      "https://www.goodreads.com/list/show/12362.All_Time_Favorite_Romance_Novelspage=7\n",
      "https://www.goodreads.com/list/show/12362.All_Time_Favorite_Romance_Novelspage=8\n",
      "https://www.goodreads.com/list/show/12362.All_Time_Favorite_Romance_Novelspage=9\n",
      "https://www.goodreads.com/list/show/12362.All_Time_Favorite_Romance_Novelspage=10\n",
      "https://www.goodreads.com/list/show/12362.All_Time_Favorite_Romance_Novelspage=11\n",
      "https://www.goodreads.com/list/show/12362.All_Time_Favorite_Romance_Novelspage=12\n",
      "https://www.goodreads.com/list/show/12362.All_Time_Favorite_Romance_Novelspage=13\n",
      "https://www.goodreads.com/list/show/12362.All_Time_Favorite_Romance_Novelspage=14\n",
      "https://www.goodreads.com/list/show/12362.All_Time_Favorite_Romance_Novelspage=15\n",
      "https://www.goodreads.com/list/show/12362.All_Time_Favorite_Romance_Novelspage=16\n",
      "https://www.goodreads.com/list/show/12362.All_Time_Favorite_Romance_Novelspage=17\n",
      "https://www.goodreads.com/list/show/12362.All_Time_Favorite_Romance_Novelspage=18\n",
      "https://www.goodreads.com/list/show/12362.All_Time_Favorite_Romance_Novelspage=19\n",
      "https://www.goodreads.com/list/show/12362.All_Time_Favorite_Romance_Novelspage=20\n",
      "https://www.goodreads.com/list/show/12362.All_Time_Favorite_Romance_Novelspage=21\n",
      "https://www.goodreads.com/list/show/12362.All_Time_Favorite_Romance_Novelspage=22\n",
      "https://www.goodreads.com/list/show/12362.All_Time_Favorite_Romance_Novelspage=23\n",
      "https://www.goodreads.com/list/show/12362.All_Time_Favorite_Romance_Novelspage=24\n",
      "https://www.goodreads.com/list/show/12362.All_Time_Favorite_Romance_Novelspage=25\n",
      "https://www.goodreads.com/list/show/12362.All_Time_Favorite_Romance_Novelspage=26\n",
      "https://www.goodreads.com/list/show/12362.All_Time_Favorite_Romance_Novelspage=27\n",
      "https://www.goodreads.com/list/show/12362.All_Time_Favorite_Romance_Novelspage=28\n",
      "https://www.goodreads.com/list/show/12362.All_Time_Favorite_Romance_Novelspage=29\n",
      "https://www.goodreads.com/list/show/12362.All_Time_Favorite_Romance_Novelspage=30\n",
      "https://www.goodreads.com/list/show/12362.All_Time_Favorite_Romance_Novelspage=31\n",
      "https://www.goodreads.com/list/show/12362.All_Time_Favorite_Romance_Novelspage=32\n",
      "https://www.goodreads.com/list/show/12362.All_Time_Favorite_Romance_Novelspage=33\n",
      "https://www.goodreads.com/list/show/12362.All_Time_Favorite_Romance_Novelspage=34\n",
      "https://www.goodreads.com/list/show/12362.All_Time_Favorite_Romance_Novelspage=35\n",
      "https://www.goodreads.com/list/show/12362.All_Time_Favorite_Romance_Novelspage=36\n",
      "https://www.goodreads.com/list/show/12362.All_Time_Favorite_Romance_Novelspage=37\n",
      "https://www.goodreads.com/list/show/12362.All_Time_Favorite_Romance_Novelspage=38\n",
      "https://www.goodreads.com/list/show/12362.All_Time_Favorite_Romance_Novelspage=39\n",
      "https://www.goodreads.com/list/show/12362.All_Time_Favorite_Romance_Novelspage=40\n",
      "https://www.goodreads.com/list/show/12362.All_Time_Favorite_Romance_Novelspage=41\n",
      "https://www.goodreads.com/list/show/12362.All_Time_Favorite_Romance_Novelspage=42\n",
      "https://www.goodreads.com/list/show/12362.All_Time_Favorite_Romance_Novelspage=43\n",
      "https://www.goodreads.com/list/show/12362.All_Time_Favorite_Romance_Novelspage=44\n",
      "https://www.goodreads.com/list/show/12362.All_Time_Favorite_Romance_Novelspage=45\n",
      "https://www.goodreads.com/list/show/12362.All_Time_Favorite_Romance_Novelspage=46\n",
      "https://www.goodreads.com/list/show/12362.All_Time_Favorite_Romance_Novelspage=47\n",
      "https://www.goodreads.com/list/show/12362.All_Time_Favorite_Romance_Novelspage=48\n",
      "https://www.goodreads.com/list/show/12362.All_Time_Favorite_Romance_Novelspage=49\n",
      "https://www.goodreads.com/list/show/12362.All_Time_Favorite_Romance_Novelspage=50\n",
      "https://www.goodreads.com/list/show/12362.All_Time_Favorite_Romance_Novelspage=51\n",
      "https://www.goodreads.com/list/show/12362.All_Time_Favorite_Romance_Novelspage=52\n",
      "https://www.goodreads.com/list/show/12362.All_Time_Favorite_Romance_Novelspage=53\n",
      "https://www.goodreads.com/list/show/12362.All_Time_Favorite_Romance_Novelspage=54\n",
      "https://www.goodreads.com/list/show/12362.All_Time_Favorite_Romance_Novelspage=55\n",
      "https://www.goodreads.com/list/show/12362.All_Time_Favorite_Romance_Novelspage=56\n",
      "https://www.goodreads.com/list/show/12362.All_Time_Favorite_Romance_Novelspage=57\n",
      "https://www.goodreads.com/list/show/12362.All_Time_Favorite_Romance_Novelspage=58\n",
      "https://www.goodreads.com/list/show/12362.All_Time_Favorite_Romance_Novelspage=59\n",
      "https://www.goodreads.com/list/show/12362.All_Time_Favorite_Romance_Novelspage=60\n",
      "https://www.goodreads.com/list/show/12362.All_Time_Favorite_Romance_Novelspage=61\n",
      "https://www.goodreads.com/list/show/12362.All_Time_Favorite_Romance_Novelspage=62\n",
      "https://www.goodreads.com/list/show/12362.All_Time_Favorite_Romance_Novelspage=63\n",
      "https://www.goodreads.com/list/show/12362.All_Time_Favorite_Romance_Novelspage=64\n",
      "https://www.goodreads.com/list/show/12362.All_Time_Favorite_Romance_Novelspage=65\n",
      "https://www.goodreads.com/list/show/12362.All_Time_Favorite_Romance_Novelspage=66\n",
      "https://www.goodreads.com/list/show/12362.All_Time_Favorite_Romance_Novelspage=67\n",
      "https://www.goodreads.com/list/show/12362.All_Time_Favorite_Romance_Novelspage=68\n",
      "https://www.goodreads.com/list/show/12362.All_Time_Favorite_Romance_Novelspage=69\n",
      "https://www.goodreads.com/list/show/12362.All_Time_Favorite_Romance_Novelspage=70\n",
      "https://www.goodreads.com/list/show/12362.All_Time_Favorite_Romance_Novelspage=71\n",
      "https://www.goodreads.com/list/show/12362.All_Time_Favorite_Romance_Novelspage=72\n",
      "https://www.goodreads.com/list/show/12362.All_Time_Favorite_Romance_Novelspage=73\n",
      "https://www.goodreads.com/list/show/12362.All_Time_Favorite_Romance_Novelspage=74\n",
      "https://www.goodreads.com/list/show/12362.All_Time_Favorite_Romance_Novelspage=75\n",
      "https://www.goodreads.com/list/show/12362.All_Time_Favorite_Romance_Novelspage=76\n",
      "https://www.goodreads.com/list/show/12362.All_Time_Favorite_Romance_Novelspage=77\n",
      "https://www.goodreads.com/list/show/12362.All_Time_Favorite_Romance_Novelspage=78\n",
      "https://www.goodreads.com/list/show/12362.All_Time_Favorite_Romance_Novelspage=79\n",
      "https://www.goodreads.com/list/show/12362.All_Time_Favorite_Romance_Novelspage=80\n",
      "https://www.goodreads.com/list/show/12362.All_Time_Favorite_Romance_Novelspage=81\n",
      "https://www.goodreads.com/list/show/12362.All_Time_Favorite_Romance_Novelspage=82\n",
      "https://www.goodreads.com/list/show/12362.All_Time_Favorite_Romance_Novelspage=83\n",
      "https://www.goodreads.com/list/show/12362.All_Time_Favorite_Romance_Novelspage=84\n",
      "https://www.goodreads.com/list/show/12362.All_Time_Favorite_Romance_Novelspage=85\n",
      "https://www.goodreads.com/list/show/12362.All_Time_Favorite_Romance_Novelspage=86\n",
      "https://www.goodreads.com/list/show/12362.All_Time_Favorite_Romance_Novelspage=87\n",
      "https://www.goodreads.com/list/show/12362.All_Time_Favorite_Romance_Novelspage=88\n",
      "https://www.goodreads.com/list/show/12362.All_Time_Favorite_Romance_Novelspage=89\n",
      "https://www.goodreads.com/list/show/12362.All_Time_Favorite_Romance_Novelspage=90\n",
      "https://www.goodreads.com/list/show/12362.All_Time_Favorite_Romance_Novelspage=91\n",
      "https://www.goodreads.com/list/show/12362.All_Time_Favorite_Romance_Novelspage=92\n",
      "https://www.goodreads.com/list/show/12362.All_Time_Favorite_Romance_Novelspage=93\n",
      "https://www.goodreads.com/list/show/12362.All_Time_Favorite_Romance_Novelspage=94\n",
      "https://www.goodreads.com/list/show/12362.All_Time_Favorite_Romance_Novelspage=95\n",
      "https://www.goodreads.com/list/show/12362.All_Time_Favorite_Romance_Novelspage=96\n",
      "https://www.goodreads.com/list/show/12362.All_Time_Favorite_Romance_Novelspage=97\n",
      "https://www.goodreads.com/list/show/12362.All_Time_Favorite_Romance_Novelspage=98\n",
      "https://www.goodreads.com/list/show/12362.All_Time_Favorite_Romance_Novelspage=99\n"
     ]
    }
   ],
   "source": [
    "page = 1\n",
    "while page !=100:\n",
    "    url=f'https://www.goodreads.com/list/show/12362.All_Time_Favorite_Romance_Novelspage={page}'\n",
    "    print(url)\n",
    "    page=page+1"
   ]
  },
  {
   "cell_type": "code",
   "execution_count": 4,
   "id": "62e0faed",
   "metadata": {
    "execution": {
     "iopub.execute_input": "2024-02-21T08:32:46.630499Z",
     "iopub.status.busy": "2024-02-21T08:32:46.629405Z",
     "iopub.status.idle": "2024-02-21T08:40:26.077568Z",
     "shell.execute_reply": "2024-02-21T08:40:26.076469Z"
    },
    "papermill": {
     "duration": 459.455371,
     "end_time": "2024-02-21T08:40:26.080250",
     "exception": false,
     "start_time": "2024-02-21T08:32:46.624879",
     "status": "completed"
    },
    "tags": []
   },
   "outputs": [],
   "source": [
    "page = 1\n",
    "names = []\n",
    "ratings = []\n",
    "avgscores = []\n",
    "author = []\n",
    "score = []\n",
    "votes = []\n",
    "while page != 100:\n",
    "    url = f'https://www.goodreads.com/list/show/12362.All_Time_Favorite_Romance_Novelspage={page}'\n",
    "    response = requests.get(url)\n",
    "    html = response.content\n",
    "    soup = bs(html,\"html.parser\")\n",
    "    book_containers = soup.find_all('td',itemtype='https://schema.org/Book')\n",
    "    for container in book_containers:\n",
    "        if container.find('td',width='100%') is not None:\n",
    "            name = container.find('a',class_='bookTitle').text.strip()\n",
    "            names.append(name)\n",
    "            authors=container.find('a',class_=\"authorName\").text.strip()\n",
    "            authors.append(authors)\n",
    "            scoring=container.find('span',class_='greyText smallText uitext').text.strip().split()\n",
    "            scores = scoring[0]\n",
    "            avgscores.append(scores)\n",
    "            rates=scoring[4]\n",
    "            ratings.append(rates)\n",
    "            votes=container.find(\"span\",class_=\"smallText uitext\").text.strip().split()\n",
    "            scores=voted[1]\n",
    "            score.append(scores)\n",
    "            vote=voted[3]\n",
    "            votes.append(vote)\n",
    "    page = page + 1"
   ]
  },
  {
   "cell_type": "code",
   "execution_count": 5,
   "id": "2f396dd7",
   "metadata": {
    "execution": {
     "iopub.execute_input": "2024-02-21T08:40:26.088881Z",
     "iopub.status.busy": "2024-02-21T08:40:26.088029Z",
     "iopub.status.idle": "2024-02-21T08:40:26.096199Z",
     "shell.execute_reply": "2024-02-21T08:40:26.095066Z"
    },
    "papermill": {
     "duration": 0.015079,
     "end_time": "2024-02-21T08:40:26.098693",
     "exception": false,
     "start_time": "2024-02-21T08:40:26.083614",
     "status": "completed"
    },
    "tags": []
   },
   "outputs": [],
   "source": [
    "df= pd.DataFrame({'Book Title': names,'Author':author,'Average Score':avgscores,'Rating':ratings,'Scores':score,'Votes':votes})"
   ]
  },
  {
   "cell_type": "code",
   "execution_count": 6,
   "id": "73628307",
   "metadata": {
    "execution": {
     "iopub.execute_input": "2024-02-21T08:40:26.107255Z",
     "iopub.status.busy": "2024-02-21T08:40:26.106473Z",
     "iopub.status.idle": "2024-02-21T08:40:26.124460Z",
     "shell.execute_reply": "2024-02-21T08:40:26.123255Z"
    },
    "papermill": {
     "duration": 0.02498,
     "end_time": "2024-02-21T08:40:26.126934",
     "exception": false,
     "start_time": "2024-02-21T08:40:26.101954",
     "status": "completed"
    },
    "tags": []
   },
   "outputs": [
    {
     "data": {
      "text/html": [
       "<div>\n",
       "<style scoped>\n",
       "    .dataframe tbody tr th:only-of-type {\n",
       "        vertical-align: middle;\n",
       "    }\n",
       "\n",
       "    .dataframe tbody tr th {\n",
       "        vertical-align: top;\n",
       "    }\n",
       "\n",
       "    .dataframe thead th {\n",
       "        text-align: right;\n",
       "    }\n",
       "</style>\n",
       "<table border=\"1\" class=\"dataframe\">\n",
       "  <thead>\n",
       "    <tr style=\"text-align: right;\">\n",
       "      <th></th>\n",
       "      <th>Book Title</th>\n",
       "      <th>Author</th>\n",
       "      <th>Average Score</th>\n",
       "      <th>Rating</th>\n",
       "      <th>Scores</th>\n",
       "      <th>Votes</th>\n",
       "    </tr>\n",
       "  </thead>\n",
       "  <tbody>\n",
       "  </tbody>\n",
       "</table>\n",
       "</div>"
      ],
      "text/plain": [
       "Empty DataFrame\n",
       "Columns: [Book Title, Author, Average Score, Rating, Scores, Votes]\n",
       "Index: []"
      ]
     },
     "execution_count": 6,
     "metadata": {},
     "output_type": "execute_result"
    }
   ],
   "source": [
    "df"
   ]
  },
  {
   "cell_type": "code",
   "execution_count": 7,
   "id": "d921ca02",
   "metadata": {
    "execution": {
     "iopub.execute_input": "2024-02-21T08:40:26.137504Z",
     "iopub.status.busy": "2024-02-21T08:40:26.135463Z",
     "iopub.status.idle": "2024-02-21T08:40:26.153843Z",
     "shell.execute_reply": "2024-02-21T08:40:26.152939Z"
    },
    "papermill": {
     "duration": 0.025924,
     "end_time": "2024-02-21T08:40:26.156247",
     "exception": false,
     "start_time": "2024-02-21T08:40:26.130323",
     "status": "completed"
    },
    "tags": []
   },
   "outputs": [
    {
     "data": {
      "text/html": [
       "<div>\n",
       "<style scoped>\n",
       "    .dataframe tbody tr th:only-of-type {\n",
       "        vertical-align: middle;\n",
       "    }\n",
       "\n",
       "    .dataframe tbody tr th {\n",
       "        vertical-align: top;\n",
       "    }\n",
       "\n",
       "    .dataframe thead th {\n",
       "        text-align: right;\n",
       "    }\n",
       "</style>\n",
       "<table border=\"1\" class=\"dataframe\">\n",
       "  <thead>\n",
       "    <tr style=\"text-align: right;\">\n",
       "      <th></th>\n",
       "      <th>Book Title</th>\n",
       "      <th>Author</th>\n",
       "      <th>Average Score</th>\n",
       "      <th>Rating</th>\n",
       "      <th>Scores</th>\n",
       "      <th>Votes</th>\n",
       "    </tr>\n",
       "  </thead>\n",
       "  <tbody>\n",
       "  </tbody>\n",
       "</table>\n",
       "</div>"
      ],
      "text/plain": [
       "Empty DataFrame\n",
       "Columns: [Book Title, Author, Average Score, Rating, Scores, Votes]\n",
       "Index: []"
      ]
     },
     "execution_count": 7,
     "metadata": {},
     "output_type": "execute_result"
    }
   ],
   "source": [
    "df.to_csv('Goodreads_csv',index=False)\n",
    "pd.read_csv('Goodreads_csv')"
   ]
  },
  {
   "cell_type": "code",
   "execution_count": null,
   "id": "702da1d0",
   "metadata": {
    "papermill": {
     "duration": 0.003226,
     "end_time": "2024-02-21T08:40:26.163109",
     "exception": false,
     "start_time": "2024-02-21T08:40:26.159883",
     "status": "completed"
    },
    "tags": []
   },
   "outputs": [],
   "source": []
  }
 ],
 "metadata": {
  "kaggle": {
   "accelerator": "none",
   "dataSources": [],
   "dockerImageVersionId": 30646,
   "isGpuEnabled": false,
   "isInternetEnabled": true,
   "language": "python",
   "sourceType": "notebook"
  },
  "kernelspec": {
   "display_name": "Python 3",
   "language": "python",
   "name": "python3"
  },
  "language_info": {
   "codemirror_mode": {
    "name": "ipython",
    "version": 3
   },
   "file_extension": ".py",
   "mimetype": "text/x-python",
   "name": "python",
   "nbconvert_exporter": "python",
   "pygments_lexer": "ipython3",
   "version": "3.10.13"
  },
  "papermill": {
   "default_parameters": {},
   "duration": 464.551633,
   "end_time": "2024-02-21T08:40:26.790142",
   "environment_variables": {},
   "exception": null,
   "input_path": "__notebook__.ipynb",
   "output_path": "__notebook__.ipynb",
   "parameters": {},
   "start_time": "2024-02-21T08:32:42.238509",
   "version": "2.5.0"
  }
 },
 "nbformat": 4,
 "nbformat_minor": 5
}
